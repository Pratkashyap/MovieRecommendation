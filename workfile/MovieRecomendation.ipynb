{
 "cells": [
  {
   "cell_type": "code",
   "execution_count": 1,
   "metadata": {},
   "outputs": [],
   "source": [
    "import sys\n",
    "import os\n",
    "import csv\n",
    "import time\n",
    "import logging as log\n",
    "from pyspark import SparkContext, SparkConf, Row\n",
    "from pyspark.sql import SQLContext, HiveContext, SparkSession\n",
    "import getpass\n",
    "from datetime import timedelta, date\n",
    "from pyspark.sql import DataFrame\n",
    "import pyspark.sql.functions as F\n",
    "from pyspark.sql.types import *\n",
    "from subprocess import call\n",
    "import pandas as pd\n",
    "import functools"
   ]
  },
  {
   "cell_type": "code",
   "execution_count": 2,
   "metadata": {},
   "outputs": [
    {
     "name": "stdout",
     "output_type": "stream",
     "text": [
      "+-------+-------+------+\n",
      "|movieId| imdbId|tmdbId|\n",
      "+-------+-------+------+\n",
      "|      1|0114709|   862|\n",
      "|      2|0113497|  8844|\n",
      "|      3|0113228| 15602|\n",
      "|      4|0114885| 31357|\n",
      "|      5|0113041| 11862|\n",
      "+-------+-------+------+\n",
      "only showing top 5 rows\n",
      "\n"
     ]
    }
   ],
   "source": [
    "#loading all the datasets in spark dataframe\n",
    "\n",
    "df_links = spark.read.csv('links.csv', header=True)\n",
    "df_links.show(5)"
   ]
  },
  {
   "cell_type": "code",
   "execution_count": 3,
   "metadata": {},
   "outputs": [
    {
     "name": "stdout",
     "output_type": "stream",
     "text": [
      "+-------+-------------------------------------+-------------------------------------------+\n",
      "|movieId|title                                |genres                                     |\n",
      "+-------+-------------------------------------+-------------------------------------------+\n",
      "|1      |Toy Story (1995)                     |Adventure|Animation|Children|Comedy|Fantasy|\n",
      "|2      |Jumanji (1995)                       |Adventure|Children|Fantasy                 |\n",
      "|3      |Grumpier Old Men (1995)              |Comedy|Romance                             |\n",
      "|4      |Waiting to Exhale (1995)             |Comedy|Drama|Romance                       |\n",
      "|5      |Father of the Bride Part II (1995)   |Comedy                                     |\n",
      "|6      |Heat (1995)                          |Action|Crime|Thriller                      |\n",
      "|7      |Sabrina (1995)                       |Comedy|Romance                             |\n",
      "|8      |Tom and Huck (1995)                  |Adventure|Children                         |\n",
      "|9      |Sudden Death (1995)                  |Action                                     |\n",
      "|10     |GoldenEye (1995)                     |Action|Adventure|Thriller                  |\n",
      "|11     |American President, The (1995)       |Comedy|Drama|Romance                       |\n",
      "|12     |Dracula: Dead and Loving It (1995)   |Comedy|Horror                              |\n",
      "|13     |Balto (1995)                         |Adventure|Animation|Children               |\n",
      "|14     |Nixon (1995)                         |Drama                                      |\n",
      "|15     |Cutthroat Island (1995)              |Action|Adventure|Romance                   |\n",
      "|16     |Casino (1995)                        |Crime|Drama                                |\n",
      "|17     |Sense and Sensibility (1995)         |Drama|Romance                              |\n",
      "|18     |Four Rooms (1995)                    |Comedy                                     |\n",
      "|19     |Ace Ventura: When Nature Calls (1995)|Comedy                                     |\n",
      "|20     |Money Train (1995)                   |Action|Comedy|Crime|Drama|Thriller         |\n",
      "+-------+-------------------------------------+-------------------------------------------+\n",
      "only showing top 20 rows\n",
      "\n"
     ]
    },
    {
     "data": {
      "text/plain": [
       "58098"
      ]
     },
     "execution_count": 3,
     "metadata": {},
     "output_type": "execute_result"
    }
   ],
   "source": [
    "df_movies = spark.read.csv('movies.csv', header=True)\n",
    "df_movies.show(truncate = False)\n",
    "df_movies.count()"
   ]
  },
  {
   "cell_type": "code",
   "execution_count": 4,
   "metadata": {},
   "outputs": [
    {
     "data": {
      "text/plain": [
       "58020"
      ]
     },
     "execution_count": 4,
     "metadata": {},
     "output_type": "execute_result"
    }
   ],
   "source": [
    "df_movies.select('title').distinct().count()"
   ]
  },
  {
   "cell_type": "code",
   "execution_count": 5,
   "metadata": {},
   "outputs": [
    {
     "name": "stdout",
     "output_type": "stream",
     "text": [
      "+------+-------+------+----------+\n",
      "|userId|movieId|rating|timestamp |\n",
      "+------+-------+------+----------+\n",
      "|1     |307    |3.5   |1256677221|\n",
      "|1     |481    |3.5   |1256677456|\n",
      "|1     |1091   |1.5   |1256677471|\n",
      "|1     |1257   |4.5   |1256677460|\n",
      "|1     |1449   |4.5   |1256677264|\n",
      "|1     |1590   |2.5   |1256677236|\n",
      "|1     |1591   |1.5   |1256677475|\n",
      "|1     |2134   |4.5   |1256677464|\n",
      "|1     |2478   |4.0   |1256677239|\n",
      "|1     |2840   |3.0   |1256677500|\n",
      "|1     |2986   |2.5   |1256677496|\n",
      "|1     |3020   |4.0   |1256677260|\n",
      "|1     |3424   |4.5   |1256677444|\n",
      "|1     |3698   |3.5   |1256677243|\n",
      "|1     |3826   |2.0   |1256677210|\n",
      "|1     |3893   |3.5   |1256677486|\n",
      "|2     |170    |3.5   |1192913581|\n",
      "|2     |849    |3.5   |1192913537|\n",
      "|2     |1186   |3.5   |1192913611|\n",
      "|2     |1235   |3.0   |1192913585|\n",
      "+------+-------+------+----------+\n",
      "only showing top 20 rows\n",
      "\n"
     ]
    }
   ],
   "source": [
    "df_ratings = spark.read.csv('ratings.csv', header=True)\n",
    "df_ratings.show(truncate = False)"
   ]
  },
  {
   "cell_type": "code",
   "execution_count": 29,
   "metadata": {},
   "outputs": [
    {
     "name": "stdout",
     "output_type": "stream",
     "text": [
      "+------+-------+--------------+----------+\n",
      "|userId|movieId|tag           |timestamp |\n",
      "+------+-------+--------------+----------+\n",
      "|14    |110    |epic          |1443148538|\n",
      "|14    |110    |Medieval      |1443148532|\n",
      "|14    |260    |sci-fi        |1442169410|\n",
      "|14    |260    |space action  |1442169421|\n",
      "|14    |318    |imdb top 250  |1442615195|\n",
      "|14    |318    |justice       |1442615192|\n",
      "|14    |480    |Dinosaurs     |1443148563|\n",
      "|14    |593    |psychothriller|1444014286|\n",
      "|14    |1682   |philosophy    |1442615158|\n",
      "|14    |1682   |surveillance  |1442615167|\n",
      "|14    |7458   |Epic          |1443148675|\n",
      "|14    |95311  |Pixar         |1443148494|\n",
      "|14    |117529 |dinosaurs     |1443148646|\n",
      "|27    |260    |classic sci-fi|1440448113|\n",
      "|27    |260    |Harrison Ford |1440448123|\n",
      "|27    |260    |must see      |1440448132|\n",
      "|27    |260    |sci-fi        |1440448094|\n",
      "|42    |37733  |disappointing |1264106059|\n",
      "|42    |37733  |overrated     |1264106052|\n",
      "|42    |37733  |stupid        |1264106067|\n",
      "+------+-------+--------------+----------+\n",
      "only showing top 20 rows\n",
      "\n"
     ]
    }
   ],
   "source": [
    "df_tags = spark.read.csv('tags.csv', header=True)\n",
    "df_tags.show(truncate = False)"
   ]
  },
  {
   "cell_type": "code",
   "execution_count": 15,
   "metadata": {},
   "outputs": [],
   "source": [
    "#creating a temporary table to use SparkSQL to query results\n",
    "\n",
    "df_ratings.registerTempTable('rating_table')\n",
    "df_movies.registerTempTable('movies_table')\n",
    "df_tags.registerTempTable('tags_table')"
   ]
  },
  {
   "cell_type": "code",
   "execution_count": 34,
   "metadata": {},
   "outputs": [
    {
     "name": "stdout",
     "output_type": "stream",
     "text": [
      "+-------+------------------------------------------------------------------------------+-------------------+\n",
      "|movieId|title                                                                         |no_of_users_watched|\n",
      "+-------+------------------------------------------------------------------------------+-------------------+\n",
      "|318    |Shawshank Redemption, The (1994)                                              |97999              |\n",
      "|356    |Forrest Gump (1994)                                                           |97040              |\n",
      "|296    |Pulp Fiction (1994)                                                           |92406              |\n",
      "|593    |Silence of the Lambs, The (1991)                                              |87899              |\n",
      "|2571   |Matrix, The (1999)                                                            |84545              |\n",
      "|260    |Star Wars: Episode IV - A New Hope (1977)                                     |81815              |\n",
      "|480    |Jurassic Park (1993)                                                          |76451              |\n",
      "|527    |Schindler's List (1993)                                                       |71516              |\n",
      "|110    |Braveheart (1995)                                                             |68803              |\n",
      "|1      |Toy Story (1995)                                                              |68469              |\n",
      "|1210   |Star Wars: Episode VI - Return of the Jedi (1983)                             |66023              |\n",
      "|1196   |Star Wars: Episode V - The Empire Strikes Back (1980)                         |65822              |\n",
      "|2959   |Fight Club (1999)                                                             |65678              |\n",
      "|589    |Terminator 2: Judgment Day (1991)                                             |64258              |\n",
      "|1198   |Raiders of the Lost Ark (Indiana Jones and the Raiders of the Lost Ark) (1981)|63505              |\n",
      "|50     |Usual Suspects, The (1995)                                                    |62180              |\n",
      "|4993   |Lord of the Rings: The Fellowship of the Ring, The (2001)                     |61883              |\n",
      "|858    |Godfather, The (1972)                                                         |60904              |\n",
      "|2858   |American Beauty (1999)                                                        |60820              |\n",
      "|780    |Independence Day (a.k.a. ID4) (1996)                                          |58949              |\n",
      "+-------+------------------------------------------------------------------------------+-------------------+\n",
      "only showing top 20 rows\n",
      "\n"
     ]
    }
   ],
   "source": [
    "#Showing all popularity based on the count of users who have watched the show and sorting based on the popularity\n",
    "sqlContext.sql(\"select r.movieId, title, count(distinct userId) as no_of_users_watched from rating_table r join movies_table m on r.movieId = m.movieId group by r.movieId , title order by no_of_users_watched desc\").show(truncate = False)"
   ]
  },
  {
   "cell_type": "code",
   "execution_count": 35,
   "metadata": {},
   "outputs": [
    {
     "name": "stdout",
     "output_type": "stream",
     "text": [
      "+-------+-------------------------------------------+-------------------+\n",
      "|movieId|genres                                     |no_of_users_watched|\n",
      "+-------+-------------------------------------------+-------------------+\n",
      "|318    |Crime|Drama                                |97999              |\n",
      "|356    |Comedy|Drama|Romance|War                   |97040              |\n",
      "|296    |Comedy|Crime|Drama|Thriller                |92406              |\n",
      "|593    |Crime|Horror|Thriller                      |87899              |\n",
      "|2571   |Action|Sci-Fi|Thriller                     |84545              |\n",
      "|260    |Action|Adventure|Sci-Fi                    |81815              |\n",
      "|480    |Action|Adventure|Sci-Fi|Thriller           |76451              |\n",
      "|527    |Drama|War                                  |71516              |\n",
      "|110    |Action|Drama|War                           |68803              |\n",
      "|1      |Adventure|Animation|Children|Comedy|Fantasy|68469              |\n",
      "+-------+-------------------------------------------+-------------------+\n",
      "only showing top 10 rows\n",
      "\n"
     ]
    }
   ],
   "source": [
    "#Showing 10 most popular genres of all time\n",
    "sqlContext.sql(\"select r.movieId, genres, count(distinct userId) as no_of_users_watched from rating_table r join movies_table m on r.movieId = m.movieId group by r.movieId , genres order by no_of_users_watched desc\").show(10,truncate = False)"
   ]
  },
  {
   "cell_type": "code",
   "execution_count": 37,
   "metadata": {},
   "outputs": [
    {
     "name": "stdout",
     "output_type": "stream",
     "text": [
      "+-------+-----------------------------------+-------------------+\n",
      "|movieId|title                              |no_of_users_watched|\n",
      "+-------+-----------------------------------+-------------------+\n",
      "|177713 |Absurd Encounter with Fear (1967)  |1                  |\n",
      "|159749 |Bumblefuck, USA (2011)             |1                  |\n",
      "|136206 |Ninja Academy (1988)               |1                  |\n",
      "|180483 |Le potager de mon grand-père (2016)|1                  |\n",
      "|148913 |Die Akte Golgatha (2010)           |1                  |\n",
      "|154240 |All About Love (2001)              |1                  |\n",
      "|165513 |Magic Kitchen (2004)               |1                  |\n",
      "|189377 |Pappa pia (2017)                   |1                  |\n",
      "|112458 |Son-Daughter, The (1932)           |1                  |\n",
      "|133511 |I Will, I Will...For Now (1976)    |1                  |\n",
      "+-------+-----------------------------------+-------------------+\n",
      "only showing top 10 rows\n",
      "\n"
     ]
    }
   ],
   "source": [
    "#Showing 10 least popular movies of all time\n",
    "sqlContext.sql('select movieId, title ,no_of_users_watched from (select r.movieId ,title , count(distinct userId) as no_of_users_watched from rating_table r join movies_table m on r.movieId = m.movieId group by r.movieId, title) moviecount order by no_of_users_watched asc').show(10, truncate=False)"
   ]
  },
  {
   "cell_type": "code",
   "execution_count": null,
   "metadata": {},
   "outputs": [],
   "source": []
  }
 ],
 "metadata": {
  "kernelspec": {
   "display_name": "Python 3",
   "language": "python",
   "name": "python3"
  },
  "language_info": {
   "codemirror_mode": {
    "name": "ipython",
    "version": 3
   },
   "file_extension": ".py",
   "mimetype": "text/x-python",
   "name": "python",
   "nbconvert_exporter": "python",
   "pygments_lexer": "ipython3",
   "version": "3.7.4"
  }
 },
 "nbformat": 4,
 "nbformat_minor": 2
}
